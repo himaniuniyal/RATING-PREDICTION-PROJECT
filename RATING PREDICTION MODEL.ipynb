{
 "cells": [
  {
   "cell_type": "markdown",
   "id": "ebda28f9",
   "metadata": {},
   "source": [
    "## RATINGS PREDICTION PROJECT\n",
    "Problem Statement:\n",
    "\n",
    "\n",
    "We have a client who has a website where people write different reviews for technical products. Now they are adding a new feature to their website i.e. the reviewer will have to add stars (ratings) as well with the review. The rating is out 5 stars and it only has 5 options available 1 star, 2 stars, 3 stars, 4 stars and 5 stars. Now they want to predict ratings for the reviews which were written in the past and they don’t have a rating. So, we have to build an application which can predict the rating by seeing the review."
   ]
  },
  {
   "cell_type": "code",
   "execution_count": 1,
   "id": "8f029af5",
   "metadata": {},
   "outputs": [],
   "source": [
    "# Importing necessary libraries\n",
    "import pandas as pd\n",
    "import numpy as np\n",
    "import seaborn as sns\n",
    "import matplotlib.pyplot as plt\n",
    "%matplotlib inline\n",
    "\n",
    "\n",
    "# Importing nltk libraries\n",
    "import re\n",
    "import string\n",
    "import nltk\n",
    "from nltk.corpus import stopwords\n",
    "nltk.download('stopwords', quiet=True)\n",
    "nltk.download('punkt', quiet=True)\n",
    "nltk.download('wordnet', quiet=True)\n",
    "nltk.download('averaged_perceptron_tagger', quiet=True)\n",
    "from nltk import FreqDist\n",
    "from nltk.tokenize import word_tokenize\n",
    "from nltk.stem.wordnet import WordNetLemmatizer\n",
    "from nltk.corpus import wordnet\n",
    "from nltk import FreqDist\n",
    "\n",
    "from scipy import stats\n",
    "from scipy.stats import zscore\n",
    "from scipy.sparse import hstack\n",
    "from sklearn.feature_extraction.text import TfidfVectorizer\n",
    "from sklearn.preprocessing import StandardScaler\n",
    "from sklearn.model_selection import train_test_split, GridSearchCV \n",
    "from sklearn.model_selection import cross_val_score\n",
    "from sklearn.metrics import f1_score, precision_score, confusion_matrix, accuracy_score, classification_report\n",
    "\n",
    "from sklearn.svm import LinearSVC\n",
    "from sklearn.linear_model import LogisticRegression\n",
    "from sklearn.linear_model import SGDClassifier\n",
    "from sklearn.ensemble import RandomForestClassifier, ExtraTreesClassifier\n",
    "from sklearn.tree import DecisionTreeClassifier\n",
    "\n",
    "import warnings\n",
    "warnings.simplefilter(\"ignore\")\n",
    "warnings.filterwarnings(\"ignore\")\n",
    "import joblib\n",
    "\n",
    "lemmatizer = nltk.stem.WordNetLemmatizer()"
   ]
  },
  {
   "cell_type": "code",
   "execution_count": 2,
   "id": "f7fc0a6d",
   "metadata": {},
   "outputs": [
    {
     "data": {
      "text/html": [
       "<div>\n",
       "<style scoped>\n",
       "    .dataframe tbody tr th:only-of-type {\n",
       "        vertical-align: middle;\n",
       "    }\n",
       "\n",
       "    .dataframe tbody tr th {\n",
       "        vertical-align: top;\n",
       "    }\n",
       "\n",
       "    .dataframe thead th {\n",
       "        text-align: right;\n",
       "    }\n",
       "</style>\n",
       "<table border=\"1\" class=\"dataframe\">\n",
       "  <thead>\n",
       "    <tr style=\"text-align: right;\">\n",
       "      <th></th>\n",
       "      <th>Unnamed: 0</th>\n",
       "      <th>Product_Review</th>\n",
       "      <th>Ratings</th>\n",
       "    </tr>\n",
       "  </thead>\n",
       "  <tbody>\n",
       "    <tr>\n",
       "      <th>0</th>\n",
       "      <td>0</td>\n",
       "      <td>It has great sound quality and bass but after ...</td>\n",
       "      <td>1.0</td>\n",
       "    </tr>\n",
       "    <tr>\n",
       "      <th>1</th>\n",
       "      <td>1</td>\n",
       "      <td>[BIG UPDATE]IT BROKE ALONG THE RIGHT HINGE, I ...</td>\n",
       "      <td>2.0</td>\n",
       "    </tr>\n",
       "    <tr>\n",
       "      <th>2</th>\n",
       "      <td>2</td>\n",
       "      <td>This is a premium quality product from boAt-Li...</td>\n",
       "      <td>5.0</td>\n",
       "    </tr>\n",
       "    <tr>\n",
       "      <th>3</th>\n",
       "      <td>3</td>\n",
       "      <td>The boAt Rockerz line is boAt's super cheap li...</td>\n",
       "      <td>1.0</td>\n",
       "    </tr>\n",
       "    <tr>\n",
       "      <th>4</th>\n",
       "      <td>4</td>\n",
       "      <td>Material is very poor quality but service also...</td>\n",
       "      <td>5.0</td>\n",
       "    </tr>\n",
       "    <tr>\n",
       "      <th>...</th>\n",
       "      <td>...</td>\n",
       "      <td>...</td>\n",
       "      <td>...</td>\n",
       "    </tr>\n",
       "    <tr>\n",
       "      <th>48045</th>\n",
       "      <td>48045</td>\n",
       "      <td>Battery and phone burnt while charging</td>\n",
       "      <td>1.0</td>\n",
       "    </tr>\n",
       "    <tr>\n",
       "      <th>48046</th>\n",
       "      <td>48046</td>\n",
       "      <td>Phone is not so good as expected just say one ...</td>\n",
       "      <td>1.0</td>\n",
       "    </tr>\n",
       "    <tr>\n",
       "      <th>48047</th>\n",
       "      <td>48047</td>\n",
       "      <td>It's a worst phone</td>\n",
       "      <td>1.0</td>\n",
       "    </tr>\n",
       "    <tr>\n",
       "      <th>48048</th>\n",
       "      <td>48048</td>\n",
       "      <td>This product is good, it's ultra slim, though ...</td>\n",
       "      <td>5.0</td>\n",
       "    </tr>\n",
       "    <tr>\n",
       "      <th>48049</th>\n",
       "      <td>48049</td>\n",
       "      <td>2 Megapixel Wala Mobile Bhi Acha Clarity Deta hai</td>\n",
       "      <td>3.0</td>\n",
       "    </tr>\n",
       "  </tbody>\n",
       "</table>\n",
       "<p>48050 rows × 3 columns</p>\n",
       "</div>"
      ],
      "text/plain": [
       "       Unnamed: 0                                     Product_Review  Ratings\n",
       "0               0  It has great sound quality and bass but after ...      1.0\n",
       "1               1  [BIG UPDATE]IT BROKE ALONG THE RIGHT HINGE, I ...      2.0\n",
       "2               2  This is a premium quality product from boAt-Li...      5.0\n",
       "3               3  The boAt Rockerz line is boAt's super cheap li...      1.0\n",
       "4               4  Material is very poor quality but service also...      5.0\n",
       "...           ...                                                ...      ...\n",
       "48045       48045             Battery and phone burnt while charging      1.0\n",
       "48046       48046  Phone is not so good as expected just say one ...      1.0\n",
       "48047       48047                                 It's a worst phone      1.0\n",
       "48048       48048  This product is good, it's ultra slim, though ...      5.0\n",
       "48049       48049  2 Megapixel Wala Mobile Bhi Acha Clarity Deta hai      3.0\n",
       "\n",
       "[48050 rows x 3 columns]"
      ]
     },
     "execution_count": 2,
     "metadata": {},
     "output_type": "execute_result"
    }
   ],
   "source": [
    "df = pd.read_csv(\"Rating_Scrapping_data.csv\")\n",
    "df # checking the first five and last five rows of our dataset"
   ]
  },
  {
   "cell_type": "code",
   "execution_count": 3,
   "id": "63c19b4e",
   "metadata": {},
   "outputs": [
    {
     "data": {
      "text/plain": [
       "Unnamed: 0          0\n",
       "Product_Review    350\n",
       "Ratings             0\n",
       "dtype: int64"
      ]
     },
     "execution_count": 3,
     "metadata": {},
     "output_type": "execute_result"
    }
   ],
   "source": [
    "df.isna().sum() # checking for missing values"
   ]
  },
  {
   "cell_type": "code",
   "execution_count": 4,
   "id": "10ccad76",
   "metadata": {},
   "outputs": [
    {
     "name": "stdout",
     "output_type": "stream",
     "text": [
      "We have 48050 Rows and 3 Columns in our dataframe before removing NaN\n",
      "We have 47700 Rows and 3 Columns in our dataframe after removing NaN\n"
     ]
    }
   ],
   "source": [
    "print(\"We have {} Rows and {} Columns in our dataframe before removing NaN\".format(df.shape[0], df.shape[1]))\n",
    "df.dropna(inplace=True)\n",
    "print(\"We have {} Rows and {} Columns in our dataframe after removing NaN\".format(df.shape[0], df.shape[1]))"
   ]
  },
  {
   "cell_type": "code",
   "execution_count": 5,
   "id": "1ff94f28",
   "metadata": {},
   "outputs": [
    {
     "data": {
      "text/plain": [
       "Unnamed: 0        0\n",
       "Product_Review    0\n",
       "Ratings           0\n",
       "dtype: int64"
      ]
     },
     "execution_count": 5,
     "metadata": {},
     "output_type": "execute_result"
    }
   ],
   "source": [
    "df.isnull().sum()"
   ]
  },
  {
   "cell_type": "code",
   "execution_count": 6,
   "id": "6e1e0107",
   "metadata": {},
   "outputs": [
    {
     "name": "stdout",
     "output_type": "stream",
     "text": [
      "<class 'pandas.core.frame.DataFrame'>\n",
      "Int64Index: 47700 entries, 0 to 48049\n",
      "Data columns (total 3 columns):\n",
      " #   Column          Non-Null Count  Dtype  \n",
      "---  ------          --------------  -----  \n",
      " 0   Unnamed: 0      47700 non-null  int64  \n",
      " 1   Product_Review  47700 non-null  object \n",
      " 2   Ratings         47700 non-null  float64\n",
      "dtypes: float64(1), int64(1), object(1)\n",
      "memory usage: 1.5+ MB\n"
     ]
    }
   ],
   "source": [
    "df.info()"
   ]
  },
  {
   "cell_type": "code",
   "execution_count": 7,
   "id": "4968beb2",
   "metadata": {},
   "outputs": [
    {
     "data": {
      "text/plain": [
       "array([1., 2., 5., 3., 4.])"
      ]
     },
     "execution_count": 7,
     "metadata": {},
     "output_type": "execute_result"
    }
   ],
   "source": [
    "df['Ratings'].unique()"
   ]
  },
  {
   "cell_type": "code",
   "execution_count": 8,
   "id": "5734ca2d",
   "metadata": {},
   "outputs": [],
   "source": [
    "'''Here I am defining a function to replace some of the contracted words to their full form and removing urls and some \n",
    "unwanted text'''\n",
    "\n",
    "def decontracted(text):\n",
    "    text = re.sub(r\"won't\", \"will not\", text)\n",
    "    text = re.sub(r\"don’t\", \"do not\", text)\n",
    "    text = re.sub(r\"can't\", \"can not\", text)\n",
    "    text = re.sub(r\"im \", \"i am\", text)\n",
    "    text = re.sub(r\"yo \", \"you \",text)\n",
    "    text = re.sub(r\"doesn’t\", \"does not\",text)\n",
    "    text = re.sub(r\"n\\'t\", \" not\", text)\n",
    "    text = re.sub(r\"\\'re\", \" are\", text)\n",
    "    text = re.sub(r\"\\'s\", \" is\", text)\n",
    "    text = re.sub(r\"\\'d\", \" would\", text)\n",
    "    text = re.sub(r\"\\'ll\", \" will\", text)\n",
    "    text = re.sub(r\"\\'t\", \" not\", text)\n",
    "    text = re.sub(r\"\\'ve\", \" have\", text)\n",
    "    text = re.sub(r\"\\'m\", \" am\", text)\n",
    "    text = re.sub(r\"<br>\", \" \", text)\n",
    "    text = re.sub(r'http\\S+', '', text) #removing urls\n",
    "    return text\n",
    "\n",
    "# Removing punctuations from the review\n",
    "df['Product_Review'] = df['Product_Review'].str.replace('[^\\w\\s]','')\n",
    "df['Product_Review'] = df['Product_Review'].str.replace('\\n',' ')\n",
    "\n",
    "# Lowercasing the alphabets\n",
    "df['Product_Review'] = df['Product_Review'].apply(lambda x : x.lower())\n",
    "df['Product_Review'] = df['Product_Review'].apply(lambda x : decontracted(x))"
   ]
  },
  {
   "cell_type": "code",
   "execution_count": 9,
   "id": "9f763518",
   "metadata": {},
   "outputs": [],
   "source": [
    "# Removing all the stopwords\n",
    "stop = stopwords.words('english')\n",
    "df['Product_Review'] = df['Product_Review'].apply(lambda x: ' '.join([word for word in x.split() if word not in (stop)]))"
   ]
  },
  {
   "cell_type": "code",
   "execution_count": 10,
   "id": "791218ec",
   "metadata": {},
   "outputs": [],
   "source": [
    "# Defining functiom to convert nltk tag to wordnet tags\n",
    "def nltk_tag_to_wordnet_tag(nltk_tag):\n",
    "    if nltk_tag.startswith('J'):\n",
    "        return wordnet.ADJ\n",
    "    elif nltk_tag.startswith('V'):\n",
    "        return wordnet.VERB\n",
    "    elif nltk_tag.startswith('N'):\n",
    "        return wordnet.NOUN\n",
    "    elif nltk_tag.startswith('R'):\n",
    "        return wordnet.ADV\n",
    "    else:\n",
    "        return None\n",
    "    \n",
    "# Defining function to lemmatize our text\n",
    "def lemmatize_sentence(sentence):\n",
    "    # tokenize the sentence and find the pos_tag\n",
    "    nltk_tagged = nltk.pos_tag(nltk.word_tokenize(sentence))\n",
    "    # tuple of (token, wordnet_tag)\n",
    "    wordnet_tagged = map(lambda x : (x[0], nltk_tag_to_wordnet_tag(x[1])), nltk_tagged)\n",
    "    lemmatize_sentence = []\n",
    "    for word, tag in wordnet_tagged:\n",
    "        if tag is None:\n",
    "            lemmatize_sentence.append(word)\n",
    "        else:\n",
    "            lemmatize_sentence.append(lemmatizer.lemmatize(word,tag))\n",
    "    return \" \".join(lemmatize_sentence)    \n",
    "\n",
    "df['Product_Review'] = df['Product_Review'].apply(lambda x : lemmatize_sentence(x))"
   ]
  },
  {
   "cell_type": "code",
   "execution_count": 11,
   "id": "ec808606",
   "metadata": {},
   "outputs": [],
   "source": [
    "# Noise removal function\n",
    "def scrub_words(text):\n",
    "    # remove HTML markup\n",
    "    text = re.sub(\"(<.*?>)\", \"\", text)\n",
    "    # remove non-ascii and digits\n",
    "    text = re.sub(\"(\\\\W)\", \" \", text)\n",
    "    text = re.sub(\"(\\\\d)\", \"\", text)\n",
    "    # remove white space\n",
    "    text = text.strip()\n",
    "    return text\n",
    "\n",
    "df['Product_Review'] = df['Product_Review'].apply(lambda x : scrub_words(x))"
   ]
  },
  {
   "cell_type": "code",
   "execution_count": 12,
   "id": "22f58b5c",
   "metadata": {},
   "outputs": [
    {
     "data": {
      "text/html": [
       "<div>\n",
       "<style scoped>\n",
       "    .dataframe tbody tr th:only-of-type {\n",
       "        vertical-align: middle;\n",
       "    }\n",
       "\n",
       "    .dataframe tbody tr th {\n",
       "        vertical-align: top;\n",
       "    }\n",
       "\n",
       "    .dataframe thead th {\n",
       "        text-align: right;\n",
       "    }\n",
       "</style>\n",
       "<table border=\"1\" class=\"dataframe\">\n",
       "  <thead>\n",
       "    <tr style=\"text-align: right;\">\n",
       "      <th></th>\n",
       "      <th>Review_WC</th>\n",
       "      <th>Product_Review</th>\n",
       "    </tr>\n",
       "  </thead>\n",
       "  <tbody>\n",
       "    <tr>\n",
       "      <th>0</th>\n",
       "      <td>41</td>\n",
       "      <td>great sound quality bass  month use get break ...</td>\n",
       "    </tr>\n",
       "    <tr>\n",
       "      <th>1</th>\n",
       "      <td>163</td>\n",
       "      <td>big updateit break along right hinge wear norm...</td>\n",
       "    </tr>\n",
       "    <tr>\n",
       "      <th>2</th>\n",
       "      <td>54</td>\n",
       "      <td>premium quality product boatlifestyle professi...</td>\n",
       "    </tr>\n",
       "    <tr>\n",
       "      <th>3</th>\n",
       "      <td>305</td>\n",
       "      <td>boat rockerz line boat super cheap lineup budg...</td>\n",
       "    </tr>\n",
       "    <tr>\n",
       "      <th>4</th>\n",
       "      <td>14</td>\n",
       "      <td>material poor quality service also good produc...</td>\n",
       "    </tr>\n",
       "    <tr>\n",
       "      <th>5</th>\n",
       "      <td>43</td>\n",
       "      <td>super comfortable premium look headphone beaut...</td>\n",
       "    </tr>\n",
       "    <tr>\n",
       "      <th>6</th>\n",
       "      <td>24</td>\n",
       "      <td>never see fragile headphone one deliver produc...</td>\n",
       "    </tr>\n",
       "    <tr>\n",
       "      <th>7</th>\n",
       "      <td>31</td>\n",
       "      <td>poor build quality one side headphone break no...</td>\n",
       "    </tr>\n",
       "    <tr>\n",
       "      <th>8</th>\n",
       "      <td>94</td>\n",
       "      <td>decentpros light weight make plastic battery s...</td>\n",
       "    </tr>\n",
       "    <tr>\n",
       "      <th>9</th>\n",
       "      <td>28</td>\n",
       "      <td>buy  month back break plastic much flexible pr...</td>\n",
       "    </tr>\n",
       "  </tbody>\n",
       "</table>\n",
       "</div>"
      ],
      "text/plain": [
       "   Review_WC                                     Product_Review\n",
       "0         41  great sound quality bass  month use get break ...\n",
       "1        163  big updateit break along right hinge wear norm...\n",
       "2         54  premium quality product boatlifestyle professi...\n",
       "3        305  boat rockerz line boat super cheap lineup budg...\n",
       "4         14  material poor quality service also good produc...\n",
       "5         43  super comfortable premium look headphone beaut...\n",
       "6         24  never see fragile headphone one deliver produc...\n",
       "7         31  poor build quality one side headphone break no...\n",
       "8         94  decentpros light weight make plastic battery s...\n",
       "9         28  buy  month back break plastic much flexible pr..."
      ]
     },
     "execution_count": 12,
     "metadata": {},
     "output_type": "execute_result"
    }
   ],
   "source": [
    "# Creating column for word counts in the review text\n",
    "df['Review_WC'] = df['Product_Review'].apply(lambda x: len(str(x).split(' ')))\n",
    "df[['Review_WC', 'Product_Review']].head(10)"
   ]
  },
  {
   "cell_type": "code",
   "execution_count": 13,
   "id": "0902c5f3",
   "metadata": {},
   "outputs": [
    {
     "data": {
      "image/png": "[encoded data removed]",
      "text/plain": [
       "<Figure size 720x504 with 1 Axes>"
      ]
     },
     "metadata": {
      "needs_background": "light"
     },
     "output_type": "display_data"
    }
   ],
   "source": [
    "# Density plot and histogram of all word count\n",
    "plt.figure(figsize=(10,7))\n",
    "sns.distplot(df['Review_WC'], hist = True, kde = True,\n",
    "            bins = int(180/5), color = 'darkblue',\n",
    "            hist_kws = {'edgecolor':'black'},\n",
    "            kde_kws = {'linewidth':4})\n",
    "plt.show()"
   ]
  },
  {
   "cell_type": "code",
   "execution_count": 14,
   "id": "da207e72",
   "metadata": {},
   "outputs": [
    {
     "data": {
      "text/html": [
       "<div>\n",
       "<style scoped>\n",
       "    .dataframe tbody tr th:only-of-type {\n",
       "        vertical-align: middle;\n",
       "    }\n",
       "\n",
       "    .dataframe tbody tr th {\n",
       "        vertical-align: top;\n",
       "    }\n",
       "\n",
       "    .dataframe thead th {\n",
       "        text-align: right;\n",
       "    }\n",
       "</style>\n",
       "<table border=\"1\" class=\"dataframe\">\n",
       "  <thead>\n",
       "    <tr style=\"text-align: right;\">\n",
       "      <th></th>\n",
       "      <th>Review_CC</th>\n",
       "      <th>Product_Review</th>\n",
       "    </tr>\n",
       "  </thead>\n",
       "  <tbody>\n",
       "    <tr>\n",
       "      <th>0</th>\n",
       "      <td>249</td>\n",
       "      <td>great sound quality bass  month use get break ...</td>\n",
       "    </tr>\n",
       "    <tr>\n",
       "      <th>1</th>\n",
       "      <td>1010</td>\n",
       "      <td>big updateit break along right hinge wear norm...</td>\n",
       "    </tr>\n",
       "    <tr>\n",
       "      <th>2</th>\n",
       "      <td>366</td>\n",
       "      <td>premium quality product boatlifestyle professi...</td>\n",
       "    </tr>\n",
       "    <tr>\n",
       "      <th>3</th>\n",
       "      <td>1929</td>\n",
       "      <td>boat rockerz line boat super cheap lineup budg...</td>\n",
       "    </tr>\n",
       "    <tr>\n",
       "      <th>4</th>\n",
       "      <td>88</td>\n",
       "      <td>material poor quality service also good produc...</td>\n",
       "    </tr>\n",
       "    <tr>\n",
       "      <th>5</th>\n",
       "      <td>315</td>\n",
       "      <td>super comfortable premium look headphone beaut...</td>\n",
       "    </tr>\n",
       "    <tr>\n",
       "      <th>6</th>\n",
       "      <td>168</td>\n",
       "      <td>never see fragile headphone one deliver produc...</td>\n",
       "    </tr>\n",
       "    <tr>\n",
       "      <th>7</th>\n",
       "      <td>184</td>\n",
       "      <td>poor build quality one side headphone break no...</td>\n",
       "    </tr>\n",
       "    <tr>\n",
       "      <th>8</th>\n",
       "      <td>585</td>\n",
       "      <td>decentpros light weight make plastic battery s...</td>\n",
       "    </tr>\n",
       "    <tr>\n",
       "      <th>9</th>\n",
       "      <td>178</td>\n",
       "      <td>buy  month back break plastic much flexible pr...</td>\n",
       "    </tr>\n",
       "  </tbody>\n",
       "</table>\n",
       "</div>"
      ],
      "text/plain": [
       "   Review_CC                                     Product_Review\n",
       "0        249  great sound quality bass  month use get break ...\n",
       "1       1010  big updateit break along right hinge wear norm...\n",
       "2        366  premium quality product boatlifestyle professi...\n",
       "3       1929  boat rockerz line boat super cheap lineup budg...\n",
       "4         88  material poor quality service also good produc...\n",
       "5        315  super comfortable premium look headphone beaut...\n",
       "6        168  never see fragile headphone one deliver produc...\n",
       "7        184  poor build quality one side headphone break no...\n",
       "8        585  decentpros light weight make plastic battery s...\n",
       "9        178  buy  month back break plastic much flexible pr..."
      ]
     },
     "execution_count": 14,
     "metadata": {},
     "output_type": "execute_result"
    }
   ],
   "source": [
    "# Creating column for character counts in the review text\n",
    "df['Review_CC'] = df['Product_Review'].str.len()\n",
    "df[['Review_CC','Product_Review']].head(10)"
   ]
  },
  {
   "cell_type": "code",
   "execution_count": 15,
   "id": "ff7b4827",
   "metadata": {},
   "outputs": [
    {
     "data": {
      "image/png": "[encoded data removed]",
      "text/plain": [
       "<Figure size 720x504 with 1 Axes>"
      ]
     },
     "metadata": {
      "needs_background": "light"
     },
     "output_type": "display_data"
    }
   ],
   "source": [
    "# Density plot and histogram of all character count\n",
    "plt.figure(figsize=(10,7))\n",
    "sns.distplot(df['Review_CC'], hist = True, kde = True,\n",
    "            bins = int(180/5), color = 'darkblue',\n",
    "            hist_kws = {'edgecolor':'black'},\n",
    "            kde_kws = {'linewidth':4})\n",
    "plt.show()"
   ]
  },
  {
   "cell_type": "code",
   "execution_count": 16,
   "id": "b5ff0b50",
   "metadata": {},
   "outputs": [
    {
     "name": "stdout",
     "output_type": "stream",
     "text": [
      "We have 46350 Rows and 5 Columns in our dataframe after removing outliers\n"
     ]
    }
   ],
   "source": [
    "# Applying zscore to remove outliers\n",
    "z_score = zscore(df[['Review_WC']])\n",
    "abs_z_score = np.abs(z_score)\n",
    "filtering_entry = (abs_z_score < 3).all(axis = 1)\n",
    "df = df[filtering_entry]\n",
    "print(\"We have {} Rows and {} Columns in our dataframe after removing outliers\".format(df.shape[0], df.shape[1]))"
   ]
  },
  {
   "cell_type": "code",
   "execution_count": 17,
   "id": "2de634f5",
   "metadata": {},
   "outputs": [
    {
     "data": {
      "image/png": "[encoded data removed]",
      "text/plain": [
       "<Figure size 720x504 with 1 Axes>"
      ]
     },
     "metadata": {
      "needs_background": "light"
     },
     "output_type": "display_data"
    }
   ],
   "source": [
    "# Density plot and histogram of all word count\n",
    "plt.figure(figsize=(10,7))\n",
    "sns.distplot(df['Review_WC'], hist = True, kde = True,\n",
    "            bins = int(180/5), color = 'darkblue',\n",
    "            hist_kws = {'edgecolor':'black'},\n",
    "            kde_kws = {'linewidth':4})\n",
    "plt.show()"
   ]
  },
  {
   "cell_type": "code",
   "execution_count": 18,
   "id": "0538f190",
   "metadata": {},
   "outputs": [
    {
     "data": {
      "image/png": "[encoded data removed]",
      "text/plain": [
       "<Figure size 720x504 with 1 Axes>"
      ]
     },
     "metadata": {
      "needs_background": "light"
     },
     "output_type": "display_data"
    }
   ],
   "source": [
    "# Density plot and histogram of all character count\n",
    "plt.figure(figsize=(10,7))\n",
    "sns.distplot(df['Review_CC'], hist = True, kde = True,\n",
    "            bins = int(180/5), color = 'darkblue',\n",
    "            hist_kws = {'edgecolor':'black'},\n",
    "            kde_kws = {'linewidth':4})\n",
    "plt.show()"
   ]
  },
  {
   "cell_type": "code",
   "execution_count": 19,
   "id": "4b9c4097",
   "metadata": {},
   "outputs": [
    {
     "data": {
      "image/png": "[encoded data removed]",
      "text/plain": [
       "<Figure size 720x576 with 1 Axes>"
      ]
     },
     "metadata": {
      "needs_background": "light"
     },
     "output_type": "display_data"
    }
   ],
   "source": [
    "# Checking the ratings column details using count plot\n",
    "x = 'Ratings'\n",
    "fig, ax = plt.subplots(1,1,figsize=(10,8))\n",
    "sns.countplot(x=x,data=df,ax=ax)\n",
    "p=0\n",
    "for i in ax.patches:\n",
    "    q = i.get_height()/2\n",
    "    val = i.get_height()\n",
    "    ratio = round(val*100/len(df),2)\n",
    "    prn = f\"{val}\\n({ratio}%)\"\n",
    "    ax.text(p,q,prn,ha=\"center\",color=\"white\",rotation=0,fontweight=\"bold\",fontsize=\"13\")\n",
    "    p += 1\n",
    "    \n",
    "plt.title(\"Count Plot: rating\")\n",
    "plt.show()"
   ]
  },
  {
   "cell_type": "code",
   "execution_count": 20,
   "id": "85e9caa6",
   "metadata": {},
   "outputs": [
    {
     "name": "stdout",
     "output_type": "stream",
     "text": [
      "5.0    16357\n",
      "1.0    14846\n",
      "4.0     7499\n",
      "3.0     4043\n",
      "2.0     3605\n",
      "Name: Ratings, dtype: int64\n"
     ]
    },
    {
     "data": {
      "image/png": "[encoded data removed]",
      "text/plain": [
       "<Figure size 1080x504 with 1 Axes>"
      ]
     },
     "metadata": {
      "needs_background": "light"
     },
     "output_type": "display_data"
    }
   ],
   "source": [
    "# Checking the count of target column values\n",
    "plt.figure(figsize=(15,7))\n",
    "sns.countplot(df['Ratings'])\n",
    "print(df.Ratings.value_counts())\n",
    "plt.show()"
   ]
  },
  {
   "cell_type": "code",
   "execution_count": 21,
   "id": "0b761d89",
   "metadata": {},
   "outputs": [
    {
     "data": {
      "text/html": [
       "<div>\n",
       "<style scoped>\n",
       "    .dataframe tbody tr th:only-of-type {\n",
       "        vertical-align: middle;\n",
       "    }\n",
       "\n",
       "    .dataframe tbody tr th {\n",
       "        vertical-align: top;\n",
       "    }\n",
       "\n",
       "    .dataframe thead th {\n",
       "        text-align: right;\n",
       "    }\n",
       "</style>\n",
       "<table border=\"1\" class=\"dataframe\">\n",
       "  <thead>\n",
       "    <tr style=\"text-align: right;\">\n",
       "      <th></th>\n",
       "      <th>Unnamed: 0</th>\n",
       "      <th>Product_Review</th>\n",
       "      <th>Ratings</th>\n",
       "      <th>Review_WC</th>\n",
       "      <th>Review_CC</th>\n",
       "    </tr>\n",
       "  </thead>\n",
       "  <tbody>\n",
       "    <tr>\n",
       "      <th>0</th>\n",
       "      <td>12804</td>\n",
       "      <td>boat bass head really live name provide amazin...</td>\n",
       "      <td>4.0</td>\n",
       "      <td>51</td>\n",
       "      <td>319</td>\n",
       "    </tr>\n",
       "    <tr>\n",
       "      <th>1</th>\n",
       "      <td>13410</td>\n",
       "      <td>great sound quality bass  month use get break ...</td>\n",
       "      <td>1.0</td>\n",
       "      <td>41</td>\n",
       "      <td>249</td>\n",
       "    </tr>\n",
       "    <tr>\n",
       "      <th>2</th>\n",
       "      <td>16089</td>\n",
       "      <td>month sound come right sideleft workingafter r...</td>\n",
       "      <td>1.0</td>\n",
       "      <td>33</td>\n",
       "      <td>233</td>\n",
       "    </tr>\n",
       "    <tr>\n",
       "      <th>3</th>\n",
       "      <td>41992</td>\n",
       "      <td>battery issue si amcard slot nd work call amaz...</td>\n",
       "      <td>1.0</td>\n",
       "      <td>42</td>\n",
       "      <td>268</td>\n",
       "    </tr>\n",
       "    <tr>\n",
       "      <th>4</th>\n",
       "      <td>5855</td>\n",
       "      <td>use less one week one headphone wire come mic ...</td>\n",
       "      <td>1.0</td>\n",
       "      <td>38</td>\n",
       "      <td>263</td>\n",
       "    </tr>\n",
       "    <tr>\n",
       "      <th>...</th>\n",
       "      <td>...</td>\n",
       "      <td>...</td>\n",
       "      <td>...</td>\n",
       "      <td>...</td>\n",
       "      <td>...</td>\n",
       "    </tr>\n",
       "    <tr>\n",
       "      <th>46345</th>\n",
       "      <td>26138</td>\n",
       "      <td>laptop good fast ghz mention correct say  ghz ...</td>\n",
       "      <td>4.0</td>\n",
       "      <td>31</td>\n",
       "      <td>171</td>\n",
       "    </tr>\n",
       "    <tr>\n",
       "      <th>46346</th>\n",
       "      <td>13971</td>\n",
       "      <td>get prime day exclusive sale r  u cant get goo...</td>\n",
       "      <td>1.0</td>\n",
       "      <td>98</td>\n",
       "      <td>576</td>\n",
       "    </tr>\n",
       "    <tr>\n",
       "      <th>46347</th>\n",
       "      <td>16812</td>\n",
       "      <td>headphone great doubt thatbut start issue try ...</td>\n",
       "      <td>1.0</td>\n",
       "      <td>52</td>\n",
       "      <td>362</td>\n",
       "    </tr>\n",
       "    <tr>\n",
       "      <th>46348</th>\n",
       "      <td>7955</td>\n",
       "      <td>buy look quality bassheads  like lot cable len...</td>\n",
       "      <td>3.0</td>\n",
       "      <td>35</td>\n",
       "      <td>211</td>\n",
       "    </tr>\n",
       "    <tr>\n",
       "      <th>46349</th>\n",
       "      <td>2225</td>\n",
       "      <td>use less one week one headphone wire come mic ...</td>\n",
       "      <td>1.0</td>\n",
       "      <td>38</td>\n",
       "      <td>263</td>\n",
       "    </tr>\n",
       "  </tbody>\n",
       "</table>\n",
       "<p>46350 rows × 5 columns</p>\n",
       "</div>"
      ],
      "text/plain": [
       "       Unnamed: 0                                     Product_Review  Ratings  \\\n",
       "0           12804  boat bass head really live name provide amazin...      4.0   \n",
       "1           13410  great sound quality bass  month use get break ...      1.0   \n",
       "2           16089  month sound come right sideleft workingafter r...      1.0   \n",
       "3           41992  battery issue si amcard slot nd work call amaz...      1.0   \n",
       "4            5855  use less one week one headphone wire come mic ...      1.0   \n",
       "...           ...                                                ...      ...   \n",
       "46345       26138  laptop good fast ghz mention correct say  ghz ...      4.0   \n",
       "46346       13971  get prime day exclusive sale r  u cant get goo...      1.0   \n",
       "46347       16812  headphone great doubt thatbut start issue try ...      1.0   \n",
       "46348        7955  buy look quality bassheads  like lot cable len...      3.0   \n",
       "46349        2225  use less one week one headphone wire come mic ...      1.0   \n",
       "\n",
       "       Review_WC  Review_CC  \n",
       "0             51        319  \n",
       "1             41        249  \n",
       "2             33        233  \n",
       "3             42        268  \n",
       "4             38        263  \n",
       "...          ...        ...  \n",
       "46345         31        171  \n",
       "46346         98        576  \n",
       "46347         52        362  \n",
       "46348         35        211  \n",
       "46349         38        263  \n",
       "\n",
       "[46350 rows x 5 columns]"
      ]
     },
     "execution_count": 21,
     "metadata": {},
     "output_type": "execute_result"
    }
   ],
   "source": [
    "# shuffling the entire data set\n",
    "df = df.sample(frac=1).reset_index(drop=True)\n",
    "df"
   ]
  },
  {
   "cell_type": "code",
   "execution_count": 22,
   "id": "9764b086",
   "metadata": {},
   "outputs": [
    {
     "data": {
      "text/html": [
       "<div>\n",
       "<style scoped>\n",
       "    .dataframe tbody tr th:only-of-type {\n",
       "        vertical-align: middle;\n",
       "    }\n",
       "\n",
       "    .dataframe tbody tr th {\n",
       "        vertical-align: top;\n",
       "    }\n",
       "\n",
       "    .dataframe thead th {\n",
       "        text-align: right;\n",
       "    }\n",
       "</style>\n",
       "<table border=\"1\" class=\"dataframe\">\n",
       "  <thead>\n",
       "    <tr style=\"text-align: right;\">\n",
       "      <th></th>\n",
       "      <th>Unnamed: 0</th>\n",
       "      <th>Product_Review</th>\n",
       "      <th>Ratings</th>\n",
       "      <th>Review_WC</th>\n",
       "      <th>Review_CC</th>\n",
       "    </tr>\n",
       "  </thead>\n",
       "  <tbody>\n",
       "    <tr>\n",
       "      <th>0</th>\n",
       "      <td>34950</td>\n",
       "      <td>first problem activate m office  call lenovo s...</td>\n",
       "      <td>3.0</td>\n",
       "      <td>31</td>\n",
       "      <td>205</td>\n",
       "    </tr>\n",
       "    <tr>\n",
       "      <th>1</th>\n",
       "      <td>10109</td>\n",
       "      <td>overdid bass virtually treble singer voice get...</td>\n",
       "      <td>3.0</td>\n",
       "      <td>36</td>\n",
       "      <td>235</td>\n",
       "    </tr>\n",
       "    <tr>\n",
       "      <th>2</th>\n",
       "      <td>19642</td>\n",
       "      <td>receive second hand headphone</td>\n",
       "      <td>1.0</td>\n",
       "      <td>4</td>\n",
       "      <td>29</td>\n",
       "    </tr>\n",
       "    <tr>\n",
       "      <th>3</th>\n",
       "      <td>1083</td>\n",
       "      <td>allow write technical accurate review amaze bo...</td>\n",
       "      <td>4.0</td>\n",
       "      <td>71</td>\n",
       "      <td>500</td>\n",
       "    </tr>\n",
       "    <tr>\n",
       "      <th>4</th>\n",
       "      <td>26150</td>\n",
       "      <td>receive yesterday  prompt delivery amazon expe...</td>\n",
       "      <td>4.0</td>\n",
       "      <td>162</td>\n",
       "      <td>1066</td>\n",
       "    </tr>\n",
       "    <tr>\n",
       "      <th>...</th>\n",
       "      <td>...</td>\n",
       "      <td>...</td>\n",
       "      <td>...</td>\n",
       "      <td>...</td>\n",
       "      <td>...</td>\n",
       "    </tr>\n",
       "    <tr>\n",
       "      <th>18020</th>\n",
       "      <td>29685</td>\n",
       "      <td>waited week receive laptop review give feedbac...</td>\n",
       "      <td>3.0</td>\n",
       "      <td>132</td>\n",
       "      <td>826</td>\n",
       "    </tr>\n",
       "    <tr>\n",
       "      <th>18021</th>\n",
       "      <td>15160</td>\n",
       "      <td>purchase boat earphone month agohere amsharing...</td>\n",
       "      <td>3.0</td>\n",
       "      <td>106</td>\n",
       "      <td>739</td>\n",
       "    </tr>\n",
       "    <tr>\n",
       "      <th>18022</th>\n",
       "      <td>45510</td>\n",
       "      <td>photo clear amnot satisfy camera everything ok...</td>\n",
       "      <td>5.0</td>\n",
       "      <td>9</td>\n",
       "      <td>62</td>\n",
       "    </tr>\n",
       "    <tr>\n",
       "      <th>18023</th>\n",
       "      <td>6003</td>\n",
       "      <td>buy sept amnot satisfied purchase dont get wro...</td>\n",
       "      <td>2.0</td>\n",
       "      <td>55</td>\n",
       "      <td>313</td>\n",
       "    </tr>\n",
       "    <tr>\n",
       "      <th>18024</th>\n",
       "      <td>20799</td>\n",
       "      <td>comfortable use headphone mnts feel pain earsi...</td>\n",
       "      <td>2.0</td>\n",
       "      <td>14</td>\n",
       "      <td>93</td>\n",
       "    </tr>\n",
       "  </tbody>\n",
       "</table>\n",
       "<p>18025 rows × 5 columns</p>\n",
       "</div>"
      ],
      "text/plain": [
       "       Unnamed: 0                                     Product_Review  Ratings  \\\n",
       "0           34950  first problem activate m office  call lenovo s...      3.0   \n",
       "1           10109  overdid bass virtually treble singer voice get...      3.0   \n",
       "2           19642                      receive second hand headphone      1.0   \n",
       "3            1083  allow write technical accurate review amaze bo...      4.0   \n",
       "4           26150  receive yesterday  prompt delivery amazon expe...      4.0   \n",
       "...           ...                                                ...      ...   \n",
       "18020       29685  waited week receive laptop review give feedbac...      3.0   \n",
       "18021       15160  purchase boat earphone month agohere amsharing...      3.0   \n",
       "18022       45510  photo clear amnot satisfy camera everything ok...      5.0   \n",
       "18023        6003  buy sept amnot satisfied purchase dont get wro...      2.0   \n",
       "18024       20799  comfortable use headphone mnts feel pain earsi...      2.0   \n",
       "\n",
       "       Review_WC  Review_CC  \n",
       "0             31        205  \n",
       "1             36        235  \n",
       "2              4         29  \n",
       "3             71        500  \n",
       "4            162       1066  \n",
       "...          ...        ...  \n",
       "18020        132        826  \n",
       "18021        106        739  \n",
       "18022          9         62  \n",
       "18023         55        313  \n",
       "18024         14         93  \n",
       "\n",
       "[18025 rows x 5 columns]"
      ]
     },
     "execution_count": 22,
     "metadata": {},
     "output_type": "execute_result"
    }
   ],
   "source": [
    "# Select data from every Ratings category\n",
    "df1 = df[df['Ratings']==1][0:3605]\n",
    "df2 = df[df['Ratings']==2][0:3605]\n",
    "df3 = df[df['Ratings']==3][0:3605]\n",
    "df4 = df[df['Ratings']==4][0:3605]\n",
    "df5 = df[df['Ratings']==5][0:3605]\n",
    "\n",
    "# Combining all the dataframes into one and shuffling them again\n",
    "df = pd.concat([df1,df2,df3,df4,df5], ignore_index=True)\n",
    "df = df.sample(frac=1).reset_index(drop=True)\n",
    "df"
   ]
  },
  {
   "cell_type": "code",
   "execution_count": 23,
   "id": "e44505b4",
   "metadata": {},
   "outputs": [
    {
     "name": "stdout",
     "output_type": "stream",
     "text": [
      "4.0    3605\n",
      "2.0    3605\n",
      "3.0    3605\n",
      "5.0    3605\n",
      "1.0    3605\n",
      "Name: Ratings, dtype: int64\n"
     ]
    },
    {
     "data": {
      "image/png": "[encoded data removed]",
      "text/plain": [
       "<Figure size 1080x504 with 1 Axes>"
      ]
     },
     "metadata": {
      "needs_background": "light"
     },
     "output_type": "display_data"
    }
   ],
   "source": [
    "# lets Check the count of target column again to confirm the balance with a visual\n",
    "plt.figure(figsize=(15,7))\n",
    "sns.countplot(df['Ratings'])\n",
    "print(df.Ratings.value_counts())\n",
    "plt.show()"
   ]
  },
  {
   "cell_type": "code",
   "execution_count": 24,
   "id": "7aacf7ba",
   "metadata": {},
   "outputs": [
    {
     "data": {
      "image/png": "[encoded data removed]",
      "text/plain": [
       "<Figure size 1080x720 with 1 Axes>"
      ]
     },
     "metadata": {
      "needs_background": "light"
     },
     "output_type": "display_data"
    }
   ],
   "source": [
    "# Function to plot most frequent terms in our Review column\n",
    "def freq_words(x, terms=30):\n",
    "    all_words = ' '.join([text for text in x])\n",
    "    all_words = all_words.split()\n",
    "    fdist = FreqDist(all_words)\n",
    "    words_df = pd.DataFrame({'word':list(fdist.keys()),\n",
    "                             'count':list(fdist.values())})\n",
    "    # selecting top 30 most frequent words\n",
    "    dt = words_df.nlargest(columns='count', n=terms)\n",
    "    plt.figure(figsize=(15,10))\n",
    "    ax = sns.barplot(data=dt, x='count', y='word')\n",
    "    ax.set(ylabel = 'Word')\n",
    "    plt.show()\n",
    "    \n",
    "freq_words(df['Product_Review'])"
   ]
  },
  {
   "cell_type": "code",
   "execution_count": 25,
   "id": "90364da7",
   "metadata": {},
   "outputs": [
    {
     "data": {
      "image/png": "[encoded data removed]",
      "text/plain": [
       "<Figure size 1080x720 with 1 Axes>"
      ]
     },
     "metadata": {
      "needs_background": "light"
     },
     "output_type": "display_data"
    }
   ],
   "source": [
    "# Function to plot least frequent terms in our Review column\n",
    "def rare_words(x, terms=30):\n",
    "    all_words = ' '.join([text for text in x])\n",
    "    all_words = all_words.split()\n",
    "    fdist = FreqDist(all_words)\n",
    "    words_df = pd.DataFrame({'word':list(fdist.keys()),\n",
    "                             'count':list(fdist.values())})\n",
    "    # selecting top 30 least freq rare words\n",
    "    dt = words_df.nsmallest(columns='count', n=terms)\n",
    "    plt.figure(figsize=(15,10))\n",
    "    ax = sns.barplot(data=dt, x='count', y='word')\n",
    "    ax.set(ylabel = 'Word')\n",
    "    plt.show()\n",
    "    \n",
    "rare_words(df['Product_Review']) "
   ]
  },
  {
   "cell_type": "code",
   "execution_count": 26,
   "id": "179f2cd6",
   "metadata": {},
   "outputs": [],
   "source": [
    "# Separating features and labels here\n",
    "x = df['Product_Review']\n",
    "y = df['Ratings']"
   ]
  },
  {
   "cell_type": "code",
   "execution_count": 27,
   "id": "06d488bd",
   "metadata": {},
   "outputs": [],
   "source": [
    "# Using the n_gram tfidf vectorizer (Word vectors)\n",
    "word_vectorizer = TfidfVectorizer(sublinear_tf = True,\n",
    "                                  strip_accents = 'unicode',\n",
    "                                  analyzer = 'word',\n",
    "                                  token_pattern = r'\\w{1,}',\n",
    "                                  stop_words = 'english',\n",
    "                                  ngram_range = (1,3),\n",
    "                                  max_features = 100000)\n",
    "word_vectorizer.fit(x)\n",
    "train_word_features = word_vectorizer.transform(x)\n",
    "\n",
    "# Character vectors\n",
    "char_vectorizer = TfidfVectorizer(sublinear_tf = True,\n",
    "                                  strip_accents = 'unicode',\n",
    "                                  analyzer = 'char',\n",
    "                                  stop_words = 'english',\n",
    "                                  ngram_range = (2,6),\n",
    "                                  max_features = 50000)\n",
    "char_vectorizer.fit(x)\n",
    "train_char_features = char_vectorizer.transform(x)\n",
    "\n",
    "# I will now combine both word vectors and character vectors as input for our model\n",
    "train_features = hstack([train_char_features, train_word_features])"
   ]
  },
  {
   "cell_type": "code",
   "execution_count": 28,
   "id": "a78c8f14",
   "metadata": {},
   "outputs": [
    {
     "name": "stdout",
     "output_type": "stream",
     "text": [
      "x_train (12617, 87064)\n",
      "x_test (5408, 87064)\n",
      "y_train (12617,)\n",
      "y_test (5408,)\n"
     ]
    }
   ],
   "source": [
    "state = 42\n",
    "x_train, x_test, y_train, y_test = train_test_split(train_features, y, test_size = 0.30, random_state = state)\n",
    "\n",
    "# Lets check the shapes of traning and test data\n",
    "print(\"x_train\", x_train.shape)\n",
    "print(\"x_test\", x_test.shape)\n",
    "print(\"y_train\", y_train.shape)\n",
    "print(\"y_test\", y_test.shape)"
   ]
  },
  {
   "cell_type": "code",
   "execution_count": 29,
   "id": "895de201",
   "metadata": {},
   "outputs": [],
   "source": [
    "# Defining the Classification Machine Learning Algorithms\n",
    "rf = RandomForestClassifier()\n",
    "lr = LogisticRegression(solver='lbfgs')\n",
    "svc = LinearSVC()\n",
    "\n",
    "# Creating a function to train and test the model with evaluation metrics\n",
    "def BuiltModel(model):\n",
    "    print('*'*30+model.__class__.__name__+'*'*30)\n",
    "    model.fit(x_train, y_train)\n",
    "    y_pred = model.predict(x_train)\n",
    "    pred = model.predict(x_test)\n",
    "    accuracy = accuracy_score(y_test, pred)*100\n",
    "    print(f\"ACCURACY SCORE PERCENTAGE:\", accuracy)\n",
    "    # Confusion matrix and Classification report\n",
    "    print(f\"CLASSIFICATION REPORT: \\n {classification_report(y_test, pred)}\")\n",
    "    print(f\"CONFUSION MATRIX: \\n {confusion_matrix(y_test, pred)}\\n\")\n",
    "    print(\"-\"*120)\n",
    "    print(\"\\n\")"
   ]
  },
  {
   "cell_type": "code",
   "execution_count": 30,
   "id": "ad9c952f",
   "metadata": {},
   "outputs": [
    {
     "name": "stdout",
     "output_type": "stream",
     "text": [
      "******************************LogisticRegression******************************\n",
      "ACCURACY SCORE PERCENTAGE: 87.20414201183432\n",
      "CLASSIFICATION REPORT: \n",
      "               precision    recall  f1-score   support\n",
      "\n",
      "         1.0       0.83      0.87      0.85      1029\n",
      "         2.0       0.88      0.91      0.89      1072\n",
      "         3.0       0.95      0.91      0.93      1144\n",
      "         4.0       0.87      0.82      0.84      1023\n",
      "         5.0       0.83      0.85      0.84      1140\n",
      "\n",
      "    accuracy                           0.87      5408\n",
      "   macro avg       0.87      0.87      0.87      5408\n",
      "weighted avg       0.87      0.87      0.87      5408\n",
      "\n",
      "CONFUSION MATRIX: \n",
      " [[ 898   28   18   26   59]\n",
      " [  26  974   12   31   29]\n",
      " [  18   24 1036   31   35]\n",
      " [  57   45   12  840   69]\n",
      " [  87   37    7   41  968]]\n",
      "\n",
      "------------------------------------------------------------------------------------------------------------------------\n",
      "\n",
      "\n",
      "******************************LinearSVC******************************\n",
      "ACCURACY SCORE PERCENTAGE: 87.11168639053254\n",
      "CLASSIFICATION REPORT: \n",
      "               precision    recall  f1-score   support\n",
      "\n",
      "         1.0       0.83      0.87      0.85      1029\n",
      "         2.0       0.88      0.91      0.89      1072\n",
      "         3.0       0.95      0.91      0.93      1144\n",
      "         4.0       0.87      0.82      0.84      1023\n",
      "         5.0       0.83      0.85      0.84      1140\n",
      "\n",
      "    accuracy                           0.87      5408\n",
      "   macro avg       0.87      0.87      0.87      5408\n",
      "weighted avg       0.87      0.87      0.87      5408\n",
      "\n",
      "CONFUSION MATRIX: \n",
      " [[ 892   28   18   26   65]\n",
      " [  26  974   12   31   29]\n",
      " [  18   24 1036   31   35]\n",
      " [  57   45   12  840   69]\n",
      " [  86   37    7   41  969]]\n",
      "\n",
      "------------------------------------------------------------------------------------------------------------------------\n",
      "\n",
      "\n"
     ]
    }
   ],
   "source": [
    "for model in [lr,svc]:\n",
    "    BuiltModel(model)"
   ]
  },
  {
   "cell_type": "code",
   "execution_count": 31,
   "id": "f4af1615",
   "metadata": {},
   "outputs": [],
   "source": [
    "# I am checking cross-validation score only for those algorithms which are giving us better accuracies\n",
    "\n",
    "def cross_val(model):\n",
    "    print('*'*30+model.__class__.__name__+'*'*30)\n",
    "    scores = cross_val_score(model,train_features,y, cv = 3).mean()*100\n",
    "    print(\"Cross validation score:\", scores)\n",
    "    print(\"\\n\")"
   ]
  },
  {
   "cell_type": "code",
   "execution_count": 32,
   "id": "eb523f33",
   "metadata": {},
   "outputs": [
    {
     "name": "stdout",
     "output_type": "stream",
     "text": [
      "******************************LogisticRegression******************************\n",
      "Cross validation score: 87.06795831552272\n",
      "\n",
      "\n",
      "******************************LinearSVC******************************\n",
      "Cross validation score: 87.05131384148811\n",
      "\n",
      "\n"
     ]
    }
   ],
   "source": [
    "for model in [lr,svc]:\n",
    "    cross_val(model)"
   ]
  },
  {
   "cell_type": "code",
   "execution_count": 33,
   "id": "17a2eaea",
   "metadata": {},
   "outputs": [],
   "source": [
    "#logistic regression gives higher score\n",
    "import pickle\n",
    "filename='Rating_Prediction.pickle'\n",
    "pickle.dump(lr,open(filename,'wb'))"
   ]
  },
  {
   "cell_type": "code",
   "execution_count": null,
   "id": "dd02e470",
   "metadata": {},
   "outputs": [],
   "source": []
  }
 ],
 "metadata": {
  "kernelspec": {
   "display_name": "Python 3",
   "language": "python",
   "name": "python3"
  },
  "language_info": {
   "codemirror_mode": {
    "name": "ipython",
    "version": 3
   },
   "file_extension": ".py",
   "mimetype": "text/x-python",
   "name": "python",
   "nbconvert_exporter": "python",
   "pygments_lexer": "ipython3",
   "version": "3.8.8"
  }
 },
 "nbformat": 4,
 "nbformat_minor": 5
}
